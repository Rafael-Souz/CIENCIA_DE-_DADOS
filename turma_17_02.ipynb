{
  "nbformat": 4,
  "nbformat_minor": 0,
  "metadata": {
    "colab": {
      "name": "turma_17_02.ipynb",
      "provenance": [],
      "authorship_tag": "ABX9TyNSFPTGNBE/0pinPjkyu/2+",
      "include_colab_link": true
    },
    "kernelspec": {
      "name": "python3",
      "display_name": "Python 3"
    },
    "language_info": {
      "name": "python"
    }
  },
  "cells": [
    {
      "cell_type": "markdown",
      "metadata": {
        "id": "view-in-github",
        "colab_type": "text"
      },
      "source": [
        "<a href=\"https://colab.research.google.com/github/Rafael-Souz/CIENCIA_DE-_DADOS/blob/main/turma_17_02.ipynb\" target=\"_parent\"><img src=\"https://colab.research.google.com/assets/colab-badge.svg\" alt=\"Open In Colab\"/></a>"
      ]
    },
    {
      "cell_type": "markdown",
      "source": [
        "#Aula de Sexta Ciência de Dados com Edson Melo\n",
        "\n",
        "---\n",
        "\n"
      ],
      "metadata": {
        "id": "nWgt18JsKmd6"
      }
    },
    {
      "cell_type": "markdown",
      "source": [
        "#CARACTERISTICAS DO PYTHON\n",
        "\n",
        "#DECLARAÇÃO DE VARIÁVEL"
      ],
      "metadata": {
        "id": "P4vHXEkyNvis"
      }
    },
    {
      "cell_type": "code",
      "execution_count": 1,
      "metadata": {
        "id": "Va3edoRoE2y9"
      },
      "outputs": [],
      "source": [
        "x = 10\n",
        "y = 20"
      ]
    },
    {
      "cell_type": "code",
      "source": [
        "x , y"
      ],
      "metadata": {
        "colab": {
          "base_uri": "https://localhost:8080/"
        },
        "id": "o27gtSd9O3St",
        "outputId": "02402dc1-2030-4e36-fa74-509d032bece4"
      },
      "execution_count": 3,
      "outputs": [
        {
          "output_type": "execute_result",
          "data": {
            "text/plain": [
              "(10, 20)"
            ]
          },
          "metadata": {},
          "execution_count": 3
        }
      ]
    },
    {
      "cell_type": "code",
      "source": [
        "type (x)"
      ],
      "metadata": {
        "colab": {
          "base_uri": "https://localhost:8080/"
        },
        "id": "4ieE8Li8P3fo",
        "outputId": "da0ce45b-748a-4ab9-9bc9-3c75d84caa20"
      },
      "execution_count": 4,
      "outputs": [
        {
          "output_type": "execute_result",
          "data": {
            "text/plain": [
              "int"
            ]
          },
          "metadata": {},
          "execution_count": 4
        }
      ]
    },
    {
      "cell_type": "code",
      "source": [
        "peso = 7.387594812\n",
        "print(peso)\n"
      ],
      "metadata": {
        "colab": {
          "base_uri": "https://localhost:8080/"
        },
        "id": "nOabkJWOQdbZ",
        "outputId": "6295946d-0946-4a58-a7a3-6e2d01ef13a3"
      },
      "execution_count": 5,
      "outputs": [
        {
          "output_type": "stream",
          "name": "stdout",
          "text": [
            "7.387594812\n"
          ]
        }
      ]
    },
    {
      "cell_type": "code",
      "source": [
        "#usando uma formatação básica\n",
        "print(\"%.02f\" %peso)"
      ],
      "metadata": {
        "colab": {
          "base_uri": "https://localhost:8080/"
        },
        "id": "au5bvsk4Q33h",
        "outputId": "b8a0b1b2-0907-40b1-e5da-28ff63bdae07"
      },
      "execution_count": 6,
      "outputs": [
        {
          "output_type": "stream",
          "name": "stdout",
          "text": [
            "7.39\n"
          ]
        }
      ]
    },
    {
      "cell_type": "code",
      "source": [
        "#outro modo de formatar\n",
        "print(f\"Saldo 1\\t{9.78:>5,.02f}\")\n",
        "print(f\"Saldo 2\\t{9.78:>5,.02f}\")"
      ],
      "metadata": {
        "colab": {
          "base_uri": "https://localhost:8080/"
        },
        "id": "ShhSDeqIRW-w",
        "outputId": "1f963704-4fb6-41c9-f16e-dbe9775ddda4"
      },
      "execution_count": 7,
      "outputs": [
        {
          "output_type": "stream",
          "name": "stdout",
          "text": [
            "Saldo 1\t 9.78\n",
            "Saldo 2\t 9.78\n"
          ]
        }
      ]
    },
    {
      "cell_type": "markdown",
      "source": [
        "# CONVERSÃO DE VALORES"
      ],
      "metadata": {
        "id": "H_-ZVPT6SHeM"
      }
    },
    {
      "cell_type": "code",
      "source": [
        "#Leitura do teclado - input('Prompt')\n",
        "entrada = input('Digite seu nome: ')\n",
        "print (entrada) "
      ],
      "metadata": {
        "colab": {
          "base_uri": "https://localhost:8080/"
        },
        "id": "mCtV8LhISFGE",
        "outputId": "b79f30a5-3d23-4af1-9e2a-aa3f530dc498"
      },
      "execution_count": 8,
      "outputs": [
        {
          "output_type": "stream",
          "name": "stdout",
          "text": [
            "Digite seu nome: rafael\n",
            "rafael\n"
          ]
        }
      ]
    },
    {
      "cell_type": "code",
      "source": [
        ""
      ],
      "metadata": {
        "id": "TX4fzY3PSNKr"
      },
      "execution_count": null,
      "outputs": []
    },
    {
      "cell_type": "markdown",
      "source": [
        "#Atividade 1"
      ],
      "metadata": {
        "id": "XVXRf272fIJ5"
      }
    },
    {
      "cell_type": "code",
      "source": [
        "\n",
        "\n",
        "a = float(input('Digite o valor de A '))\n",
        "print(a)\n",
        "b = float(input('Digite o valor de B '))\n",
        "print(b)\n",
        "c =float(input('Digite o valor de C '))\n",
        "print(c)\n",
        "d = float(input('Digite o valor de D '))\n",
        "print(d)\n",
        "\n",
        "print(abs(a+b+c-d))\n",
        "\n",
        "print(abs(c/d*3-a*7))\n",
        "\n",
        "print(abs(d%(a+b)))8\n",
        "\n",
        "\n"
      ],
      "metadata": {
        "id": "SFL1AwotSbV1",
        "colab": {
          "base_uri": "https://localhost:8080/"
        },
        "outputId": "9f69131a-aeec-491e-b0d8-03a56d7b7776"
      },
      "execution_count": 18,
      "outputs": [
        {
          "output_type": "stream",
          "name": "stdout",
          "text": [
            "Digite o valor de A 7 \n",
            "7.0\n",
            "Digite o valor de B 9\n",
            "9.0\n",
            "Digite o valor de C 6\n",
            "6.0\n",
            "Digite o valor de D 7\n",
            "7.0\n",
            "15.0\n",
            "46.42857142857143\n",
            "7.0\n"
          ]
        }
      ]
    },
    {
      "cell_type": "code",
      "source": [
        "print(f\"Ana Maria \\t{7.0:>2,.02f}\")\n",
        "print(f\"José Carlos \\t{9.0:>2,.02f}\")\n",
        "print(f\"Júlio Martins \\t{6.0:>2,.02f}\")\n",
        "print(f\"Ubiratan Santo \\t{10.0:>2,.02f}\")"
      ],
      "metadata": {
        "colab": {
          "base_uri": "https://localhost:8080/"
        },
        "id": "WivqYrN5cgkE",
        "outputId": "b37f8e8b-9221-48c4-fa97-20041e14e91b"
      },
      "execution_count": 19,
      "outputs": [
        {
          "output_type": "stream",
          "name": "stdout",
          "text": [
            "Ana Maria \t7.00\n",
            "José Carlos \t9.00\n",
            "Júlio Martins \t6.00\n",
            "Ubiratan Santo \t10.00\n"
          ]
        }
      ]
    }
  ]
}