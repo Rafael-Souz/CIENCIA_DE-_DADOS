{
  "nbformat": 4,
  "nbformat_minor": 0,
  "metadata": {
    "colab": {
      "name": "Regressao Linear_13.ipynb",
      "provenance": [],
      "collapsed_sections": [],
      "include_colab_link": true
    },
    "kernelspec": {
      "name": "python3",
      "display_name": "Python 3"
    },
    "language_info": {
      "name": "python"
    }
  },
  "cells": [
    {
      "cell_type": "markdown",
      "metadata": {
        "id": "view-in-github",
        "colab_type": "text"
      },
      "source": [
        "<a href=\"https://colab.research.google.com/github/Rafael-Souz/CIENCIA_DE_DADOS/blob/main/Regressao_Linear_13.ipynb\" target=\"_parent\"><img src=\"https://colab.research.google.com/assets/colab-badge.svg\" alt=\"Open In Colab\"/></a>"
      ]
    },
    {
      "cell_type": "markdown",
      "source": [
        "# Regressão Linear\n",
        "\n",
        "<center>\n",
        "\n",
        "![image.png](data:image/png;base64,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)\n",
        "\n",
        "</center>\n",
        "\n",
        "$$ \\hat{y} = \\theta_0 + \\theta_1 x_1 + \\theta_2 x_2 + \\dots \\theta_n x_n$$\n",
        "\n",
        "$\\hat{y}$ - valor previsto\n",
        "\n",
        "$\\theta$ - parâmetro do modelo\n",
        "\n",
        "$n$ - número de atributos (*features*)\n",
        "\n",
        "$x_i$ - o valor do *inésimo* atributo (*feature*)"
      ],
      "metadata": {
        "id": "LVgcwSlspUpq"
      }
    },
    {
      "cell_type": "code",
      "execution_count": null,
      "metadata": {
        "id": "48WMeCT8mxEo"
      },
      "outputs": [],
      "source": [
        "import pandas as pd\n",
        "import numpy as np\n",
        "import matplotlib.pyplot as plt\n",
        "\n",
        "from sklearn import linear_model # Regressão Linear\n",
        "\n",
        "import warnings\n",
        "warnings.filterwarnings('ignore')"
      ]
    },
    {
      "cell_type": "code",
      "source": [
        "# Criação do conjunto de dados\n",
        "\n",
        "df = pd.DataFrame()\n",
        "\n",
        "# Definir as horas de estudo\n",
        "df['x'] = [5.1, 5.5, 5.9, 6.5, 6.8, 7.6, 8.3, 8.5, 9.1, 9.5]\n",
        "\n",
        "# Definir as notas obtidas\n",
        "df['y'] = [2.0, 2.9, 4.0, 5.9, 6.0, 6.9, 8.0, 9.0, 9.9, 10.0]\n",
        "\n",
        "# Verificar o DataFrame\n",
        "df.head(10)"
      ],
      "metadata": {
        "colab": {
          "base_uri": "https://localhost:8080/",
          "height": 363
        },
        "id": "-glGuxfbvVdo",
        "outputId": "ec1fc42d-5b11-489a-db6b-93d7e2579a5d"
      },
      "execution_count": null,
      "outputs": [
        {
          "output_type": "execute_result",
          "data": {
            "text/plain": [
              "     x     y\n",
              "0  5.1   2.0\n",
              "1  5.5   2.9\n",
              "2  5.9   4.0\n",
              "3  6.5   5.9\n",
              "4  6.8   6.0\n",
              "5  7.6   6.9\n",
              "6  8.3   8.0\n",
              "7  8.5   9.0\n",
              "8  9.1   9.9\n",
              "9  9.5  10.0"
            ],
            "text/html": [
              "\n",
              "  <div id=\"df-f1d63d13-fa1e-4342-864b-057380182114\">\n",
              "    <div class=\"colab-df-container\">\n",
              "      <div>\n",
              "<style scoped>\n",
              "    .dataframe tbody tr th:only-of-type {\n",
              "        vertical-align: middle;\n",
              "    }\n",
              "\n",
              "    .dataframe tbody tr th {\n",
              "        vertical-align: top;\n",
              "    }\n",
              "\n",
              "    .dataframe thead th {\n",
              "        text-align: right;\n",
              "    }\n",
              "</style>\n",
              "<table border=\"1\" class=\"dataframe\">\n",
              "  <thead>\n",
              "    <tr style=\"text-align: right;\">\n",
              "      <th></th>\n",
              "      <th>x</th>\n",
              "      <th>y</th>\n",
              "    </tr>\n",
              "  </thead>\n",
              "  <tbody>\n",
              "    <tr>\n",
              "      <th>0</th>\n",
              "      <td>5.1</td>\n",
              "      <td>2.0</td>\n",
              "    </tr>\n",
              "    <tr>\n",
              "      <th>1</th>\n",
              "      <td>5.5</td>\n",
              "      <td>2.9</td>\n",
              "    </tr>\n",
              "    <tr>\n",
              "      <th>2</th>\n",
              "      <td>5.9</td>\n",
              "      <td>4.0</td>\n",
              "    </tr>\n",
              "    <tr>\n",
              "      <th>3</th>\n",
              "      <td>6.5</td>\n",
              "      <td>5.9</td>\n",
              "    </tr>\n",
              "    <tr>\n",
              "      <th>4</th>\n",
              "      <td>6.8</td>\n",
              "      <td>6.0</td>\n",
              "    </tr>\n",
              "    <tr>\n",
              "      <th>5</th>\n",
              "      <td>7.6</td>\n",
              "      <td>6.9</td>\n",
              "    </tr>\n",
              "    <tr>\n",
              "      <th>6</th>\n",
              "      <td>8.3</td>\n",
              "      <td>8.0</td>\n",
              "    </tr>\n",
              "    <tr>\n",
              "      <th>7</th>\n",
              "      <td>8.5</td>\n",
              "      <td>9.0</td>\n",
              "    </tr>\n",
              "    <tr>\n",
              "      <th>8</th>\n",
              "      <td>9.1</td>\n",
              "      <td>9.9</td>\n",
              "    </tr>\n",
              "    <tr>\n",
              "      <th>9</th>\n",
              "      <td>9.5</td>\n",
              "      <td>10.0</td>\n",
              "    </tr>\n",
              "  </tbody>\n",
              "</table>\n",
              "</div>\n",
              "      <button class=\"colab-df-convert\" onclick=\"convertToInteractive('df-f1d63d13-fa1e-4342-864b-057380182114')\"\n",
              "              title=\"Convert this dataframe to an interactive table.\"\n",
              "              style=\"display:none;\">\n",
              "        \n",
              "  <svg xmlns=\"http://www.w3.org/2000/svg\" height=\"24px\"viewBox=\"0 0 24 24\"\n",
              "       width=\"24px\">\n",
              "    <path d=\"M0 0h24v24H0V0z\" fill=\"none\"/>\n",
              "    <path d=\"M18.56 5.44l.94 2.06.94-2.06 2.06-.94-2.06-.94-.94-2.06-.94 2.06-2.06.94zm-11 1L8.5 8.5l.94-2.06 2.06-.94-2.06-.94L8.5 2.5l-.94 2.06-2.06.94zm10 10l.94 2.06.94-2.06 2.06-.94-2.06-.94-.94-2.06-.94 2.06-2.06.94z\"/><path d=\"M17.41 7.96l-1.37-1.37c-.4-.4-.92-.59-1.43-.59-.52 0-1.04.2-1.43.59L10.3 9.45l-7.72 7.72c-.78.78-.78 2.05 0 2.83L4 21.41c.39.39.9.59 1.41.59.51 0 1.02-.2 1.41-.59l7.78-7.78 2.81-2.81c.8-.78.8-2.07 0-2.86zM5.41 20L4 18.59l7.72-7.72 1.47 1.35L5.41 20z\"/>\n",
              "  </svg>\n",
              "      </button>\n",
              "      \n",
              "  <style>\n",
              "    .colab-df-container {\n",
              "      display:flex;\n",
              "      flex-wrap:wrap;\n",
              "      gap: 12px;\n",
              "    }\n",
              "\n",
              "    .colab-df-convert {\n",
              "      background-color: #E8F0FE;\n",
              "      border: none;\n",
              "      border-radius: 50%;\n",
              "      cursor: pointer;\n",
              "      display: none;\n",
              "      fill: #1967D2;\n",
              "      height: 32px;\n",
              "      padding: 0 0 0 0;\n",
              "      width: 32px;\n",
              "    }\n",
              "\n",
              "    .colab-df-convert:hover {\n",
              "      background-color: #E2EBFA;\n",
              "      box-shadow: 0px 1px 2px rgba(60, 64, 67, 0.3), 0px 1px 3px 1px rgba(60, 64, 67, 0.15);\n",
              "      fill: #174EA6;\n",
              "    }\n",
              "\n",
              "    [theme=dark] .colab-df-convert {\n",
              "      background-color: #3B4455;\n",
              "      fill: #D2E3FC;\n",
              "    }\n",
              "\n",
              "    [theme=dark] .colab-df-convert:hover {\n",
              "      background-color: #434B5C;\n",
              "      box-shadow: 0px 1px 3px 1px rgba(0, 0, 0, 0.15);\n",
              "      filter: drop-shadow(0px 1px 2px rgba(0, 0, 0, 0.3));\n",
              "      fill: #FFFFFF;\n",
              "    }\n",
              "  </style>\n",
              "\n",
              "      <script>\n",
              "        const buttonEl =\n",
              "          document.querySelector('#df-f1d63d13-fa1e-4342-864b-057380182114 button.colab-df-convert');\n",
              "        buttonEl.style.display =\n",
              "          google.colab.kernel.accessAllowed ? 'block' : 'none';\n",
              "\n",
              "        async function convertToInteractive(key) {\n",
              "          const element = document.querySelector('#df-f1d63d13-fa1e-4342-864b-057380182114');\n",
              "          const dataTable =\n",
              "            await google.colab.kernel.invokeFunction('convertToInteractive',\n",
              "                                                     [key], {});\n",
              "          if (!dataTable) return;\n",
              "\n",
              "          const docLinkHtml = 'Like what you see? Visit the ' +\n",
              "            '<a target=\"_blank\" href=https://colab.research.google.com/notebooks/data_table.ipynb>data table notebook</a>'\n",
              "            + ' to learn more about interactive tables.';\n",
              "          element.innerHTML = '';\n",
              "          dataTable['output_type'] = 'display_data';\n",
              "          await google.colab.output.renderOutput(dataTable, element);\n",
              "          const docLink = document.createElement('div');\n",
              "          docLink.innerHTML = docLinkHtml;\n",
              "          element.appendChild(docLink);\n",
              "        }\n",
              "      </script>\n",
              "    </div>\n",
              "  </div>\n",
              "  "
            ]
          },
          "metadata": {},
          "execution_count": 2
        }
      ]
    },
    {
      "cell_type": "code",
      "source": [
        "# Analisar os dados estatísticos do DataFrame\n",
        "df.describe()"
      ],
      "metadata": {
        "colab": {
          "base_uri": "https://localhost:8080/",
          "height": 300
        },
        "id": "q1aBSgYlwM-L",
        "outputId": "5c9cb790-c1d4-4b01-d3c1-3a61cce0d35e"
      },
      "execution_count": null,
      "outputs": [
        {
          "output_type": "execute_result",
          "data": {
            "text/plain": [
              "               x          y\n",
              "count  10.000000  10.000000\n",
              "mean    7.280000   6.460000\n",
              "std     1.546897   2.838701\n",
              "min     5.100000   2.000000\n",
              "25%     6.050000   4.475000\n",
              "50%     7.200000   6.450000\n",
              "75%     8.450000   8.750000\n",
              "max     9.500000  10.000000"
            ],
            "text/html": [
              "\n",
              "  <div id=\"df-2d9da741-d985-4b06-856d-07b0c3ccd09a\">\n",
              "    <div class=\"colab-df-container\">\n",
              "      <div>\n",
              "<style scoped>\n",
              "    .dataframe tbody tr th:only-of-type {\n",
              "        vertical-align: middle;\n",
              "    }\n",
              "\n",
              "    .dataframe tbody tr th {\n",
              "        vertical-align: top;\n",
              "    }\n",
              "\n",
              "    .dataframe thead th {\n",
              "        text-align: right;\n",
              "    }\n",
              "</style>\n",
              "<table border=\"1\" class=\"dataframe\">\n",
              "  <thead>\n",
              "    <tr style=\"text-align: right;\">\n",
              "      <th></th>\n",
              "      <th>x</th>\n",
              "      <th>y</th>\n",
              "    </tr>\n",
              "  </thead>\n",
              "  <tbody>\n",
              "    <tr>\n",
              "      <th>count</th>\n",
              "      <td>10.000000</td>\n",
              "      <td>10.000000</td>\n",
              "    </tr>\n",
              "    <tr>\n",
              "      <th>mean</th>\n",
              "      <td>7.280000</td>\n",
              "      <td>6.460000</td>\n",
              "    </tr>\n",
              "    <tr>\n",
              "      <th>std</th>\n",
              "      <td>1.546897</td>\n",
              "      <td>2.838701</td>\n",
              "    </tr>\n",
              "    <tr>\n",
              "      <th>min</th>\n",
              "      <td>5.100000</td>\n",
              "      <td>2.000000</td>\n",
              "    </tr>\n",
              "    <tr>\n",
              "      <th>25%</th>\n",
              "      <td>6.050000</td>\n",
              "      <td>4.475000</td>\n",
              "    </tr>\n",
              "    <tr>\n",
              "      <th>50%</th>\n",
              "      <td>7.200000</td>\n",
              "      <td>6.450000</td>\n",
              "    </tr>\n",
              "    <tr>\n",
              "      <th>75%</th>\n",
              "      <td>8.450000</td>\n",
              "      <td>8.750000</td>\n",
              "    </tr>\n",
              "    <tr>\n",
              "      <th>max</th>\n",
              "      <td>9.500000</td>\n",
              "      <td>10.000000</td>\n",
              "    </tr>\n",
              "  </tbody>\n",
              "</table>\n",
              "</div>\n",
              "      <button class=\"colab-df-convert\" onclick=\"convertToInteractive('df-2d9da741-d985-4b06-856d-07b0c3ccd09a')\"\n",
              "              title=\"Convert this dataframe to an interactive table.\"\n",
              "              style=\"display:none;\">\n",
              "        \n",
              "  <svg xmlns=\"http://www.w3.org/2000/svg\" height=\"24px\"viewBox=\"0 0 24 24\"\n",
              "       width=\"24px\">\n",
              "    <path d=\"M0 0h24v24H0V0z\" fill=\"none\"/>\n",
              "    <path d=\"M18.56 5.44l.94 2.06.94-2.06 2.06-.94-2.06-.94-.94-2.06-.94 2.06-2.06.94zm-11 1L8.5 8.5l.94-2.06 2.06-.94-2.06-.94L8.5 2.5l-.94 2.06-2.06.94zm10 10l.94 2.06.94-2.06 2.06-.94-2.06-.94-.94-2.06-.94 2.06-2.06.94z\"/><path d=\"M17.41 7.96l-1.37-1.37c-.4-.4-.92-.59-1.43-.59-.52 0-1.04.2-1.43.59L10.3 9.45l-7.72 7.72c-.78.78-.78 2.05 0 2.83L4 21.41c.39.39.9.59 1.41.59.51 0 1.02-.2 1.41-.59l7.78-7.78 2.81-2.81c.8-.78.8-2.07 0-2.86zM5.41 20L4 18.59l7.72-7.72 1.47 1.35L5.41 20z\"/>\n",
              "  </svg>\n",
              "      </button>\n",
              "      \n",
              "  <style>\n",
              "    .colab-df-container {\n",
              "      display:flex;\n",
              "      flex-wrap:wrap;\n",
              "      gap: 12px;\n",
              "    }\n",
              "\n",
              "    .colab-df-convert {\n",
              "      background-color: #E8F0FE;\n",
              "      border: none;\n",
              "      border-radius: 50%;\n",
              "      cursor: pointer;\n",
              "      display: none;\n",
              "      fill: #1967D2;\n",
              "      height: 32px;\n",
              "      padding: 0 0 0 0;\n",
              "      width: 32px;\n",
              "    }\n",
              "\n",
              "    .colab-df-convert:hover {\n",
              "      background-color: #E2EBFA;\n",
              "      box-shadow: 0px 1px 2px rgba(60, 64, 67, 0.3), 0px 1px 3px 1px rgba(60, 64, 67, 0.15);\n",
              "      fill: #174EA6;\n",
              "    }\n",
              "\n",
              "    [theme=dark] .colab-df-convert {\n",
              "      background-color: #3B4455;\n",
              "      fill: #D2E3FC;\n",
              "    }\n",
              "\n",
              "    [theme=dark] .colab-df-convert:hover {\n",
              "      background-color: #434B5C;\n",
              "      box-shadow: 0px 1px 3px 1px rgba(0, 0, 0, 0.15);\n",
              "      filter: drop-shadow(0px 1px 2px rgba(0, 0, 0, 0.3));\n",
              "      fill: #FFFFFF;\n",
              "    }\n",
              "  </style>\n",
              "\n",
              "      <script>\n",
              "        const buttonEl =\n",
              "          document.querySelector('#df-2d9da741-d985-4b06-856d-07b0c3ccd09a button.colab-df-convert');\n",
              "        buttonEl.style.display =\n",
              "          google.colab.kernel.accessAllowed ? 'block' : 'none';\n",
              "\n",
              "        async function convertToInteractive(key) {\n",
              "          const element = document.querySelector('#df-2d9da741-d985-4b06-856d-07b0c3ccd09a');\n",
              "          const dataTable =\n",
              "            await google.colab.kernel.invokeFunction('convertToInteractive',\n",
              "                                                     [key], {});\n",
              "          if (!dataTable) return;\n",
              "\n",
              "          const docLinkHtml = 'Like what you see? Visit the ' +\n",
              "            '<a target=\"_blank\" href=https://colab.research.google.com/notebooks/data_table.ipynb>data table notebook</a>'\n",
              "            + ' to learn more about interactive tables.';\n",
              "          element.innerHTML = '';\n",
              "          dataTable['output_type'] = 'display_data';\n",
              "          await google.colab.output.renderOutput(dataTable, element);\n",
              "          const docLink = document.createElement('div');\n",
              "          docLink.innerHTML = docLinkHtml;\n",
              "          element.appendChild(docLink);\n",
              "        }\n",
              "      </script>\n",
              "    </div>\n",
              "  </div>\n",
              "  "
            ]
          },
          "metadata": {},
          "execution_count": 3
        }
      ]
    },
    {
      "cell_type": "code",
      "source": [
        "# Separando os dados em duas partes (Variáveis dependentes e independentes)\n",
        "x_values = df[['x']]\n",
        "y_values = df[['y']]"
      ],
      "metadata": {
        "id": "Q4LnFMaHxDTo"
      },
      "execution_count": null,
      "outputs": []
    },
    {
      "cell_type": "markdown",
      "source": [
        "# Modelo de Regressão Linear Simples\n",
        "\n",
        "P: O que queremos?\n",
        "\n",
        "R: Qual o número de horas necessárias para que um aluno obtenha um nota boa?\n"
      ],
      "metadata": {
        "id": "PjdA-Aq1znRF"
      }
    },
    {
      "cell_type": "code",
      "source": [
        "# Treinando o modelo de Regressão Linear\n",
        "modelo = linear_model.LinearRegression()\n",
        "modelo.fit(x_values, y_values)"
      ],
      "metadata": {
        "colab": {
          "base_uri": "https://localhost:8080/"
        },
        "id": "FEcE4PH8zXR2",
        "outputId": "303d9654-6b06-4ace-c58a-b3657bdc4952"
      },
      "execution_count": null,
      "outputs": [
        {
          "output_type": "execute_result",
          "data": {
            "text/plain": [
              "LinearRegression()"
            ]
          },
          "metadata": {},
          "execution_count": 5
        }
      ]
    },
    {
      "cell_type": "code",
      "source": [
        "# Coeficiente da reta gerada\n",
        "# y = ax + b (equação da reta)\n",
        "\n",
        "# Coeficiente da inclinação da reta -> linha de tendência (a)\n",
        "print('Coeficiente angular:', round(modelo.coef_[0][0], 2))\n",
        "\n",
        "# Ponto onde a linha de tendência atinge o eixo 'y' (b)\n",
        "print('Coeficiente linear:', round(modelo.intercept_[0], 2))"
      ],
      "metadata": {
        "colab": {
          "base_uri": "https://localhost:8080/"
        },
        "id": "vU3V6yew1LS3",
        "outputId": "eab3e0f2-6a99-4802-a3fd-ce2f30e7d91b"
      },
      "execution_count": null,
      "outputs": [
        {
          "output_type": "stream",
          "name": "stdout",
          "text": [
            "Coeficiente angular: 1.81\n",
            "Coeficiente linear: -6.74\n"
          ]
        }
      ]
    },
    {
      "cell_type": "code",
      "source": [
        "# Plotar um gráfico dos nossos dados\n",
        "plt.figure(1, figsize=(7,5))\n",
        "plt.scatter(df.x, df.y)\n",
        "\n",
        "# Desenhar o .fit()\n",
        "fit = np.polyfit(df.x.values, df.y.values, 1)\n",
        "fit_fn = np.poly1d(fit)\n",
        "\n",
        "# Plotando a linha da regressão no gráfico\n",
        "plt.plot(df.x.values, fit_fn(df.x.values), 'r')\n",
        "plt.show()"
      ],
      "metadata": {
        "colab": {
          "base_uri": "https://localhost:8080/",
          "height": 320
        },
        "id": "Vp7K3N8Q5QUf",
        "outputId": "1d7eafa1-12f3-430a-dde0-de8c0b0f8518"
      },
      "execution_count": null,
      "outputs": [
        {
          "output_type": "display_data",
          "data": {
            "text/plain": [
              "<Figure size 504x360 with 1 Axes>"
            ],
            "image/png": "[encoded data removed]"
          },
          "metadata": {
            "needs_background": "light"
          }
        }
      ]
    },
    {
      "cell_type": "code",
      "source": [
        "# Estimar um valor desconhecido, ou seja, informar um valor de horas para obter a nota\n",
        "# Limite para a predição é entre 5.1 e 9.5\n",
        "horas_estudadas = 5.1\n",
        "predicao = modelo.predict(np.array([[horas_estudadas]]))\n",
        "print('Nota Prevista:', round(predicao[0][0],2))"
      ],
      "metadata": {
        "colab": {
          "base_uri": "https://localhost:8080/"
        },
        "id": "U7VqotwC6mym",
        "outputId": "b0cbe12a-2c7b-4fb9-f92c-47f381ed5429"
      },
      "execution_count": null,
      "outputs": [
        {
          "output_type": "stream",
          "name": "stdout",
          "text": [
            "Nota Prevista: 2.51\n"
          ]
        }
      ]
    },
    {
      "cell_type": "code",
      "source": [
        "# Atividade \"rapidão\"\n",
        "# Reproduzir os códigos anteriores, utilizando os dados a seguir:\n",
        "\n",
        "dados = pd.read_csv(\"https://www.edsonmelo.com.br/dados_csv/dados_regressao.csv\", sep=',', header=None)"
      ],
      "metadata": {
        "id": "A1s6qmIh9UAn"
      },
      "execution_count": null,
      "outputs": []
    },
    {
      "cell_type": "code",
      "source": [
        "# Resolvendo a atividade\n",
        "df = pd.DataFrame()\n",
        "df['x'] = dados.values[:, 0]\n",
        "df['y'] = dados.values[:, -1]\n",
        "\n",
        "# Criando dois DataFrames separados (values)\n",
        "x_values = df[['x']] # variável independente (entrada)\n",
        "y_values = df[['y']] # variável dependente (saída)\n",
        "\n",
        "# Definição e treinamento do modelo de Regressão Linear\n",
        "modelo = linear_model.LinearRegression()\n",
        "modelo.fit(x_values, y_values)\n",
        "\n",
        "print('(a):', modelo.coef_)\n",
        "print('(b):', modelo.intercept_)"
      ],
      "metadata": {
        "id": "B1YMUqpk-YaO",
        "colab": {
          "base_uri": "https://localhost:8080/"
        },
        "outputId": "29a4b893-2983-4760-aba8-fdb37133bfd4"
      },
      "execution_count": null,
      "outputs": [
        {
          "output_type": "stream",
          "name": "stdout",
          "text": [
            "(a): [[0.06401229]]\n",
            "(b): [0.74949629]\n"
          ]
        }
      ]
    },
    {
      "cell_type": "code",
      "source": [
        "# Predição sobre o modelo\n",
        "modelo.predict(np.array([[2.07]]))"
      ],
      "metadata": {
        "colab": {
          "base_uri": "https://localhost:8080/"
        },
        "id": "pJ3Y6wYto_0Q",
        "outputId": "f9303c28-9b96-4b03-e15c-20dc0399d700"
      },
      "execution_count": null,
      "outputs": [
        {
          "output_type": "execute_result",
          "data": {
            "text/plain": [
              "array([[0.88200173]])"
            ]
          },
          "metadata": {},
          "execution_count": 16
        }
      ]
    },
    {
      "cell_type": "markdown",
      "source": [
        "# Regressão Linear Múltipla\n",
        "\n",
        "É quando o número de variáveis independentes é maio que um, ou seja, `var_dep` > 1."
      ],
      "metadata": {
        "id": "1sQ5HxZkrhlH"
      }
    },
    {
      "cell_type": "code",
      "source": [
        "import pandas as pd\n",
        "import numpy as np\n",
        "import seaborn as sns\n",
        "import matplotlib.pyplot as plt\n",
        "\n",
        "from sklearn.linear_model import LinearRegression\n",
        "from sklearn.metrics import r2_score\n",
        "\n",
        "import statsmodels.api as sm"
      ],
      "metadata": {
        "id": "xE0jBNt4rLbn"
      },
      "execution_count": null,
      "outputs": []
    },
    {
      "cell_type": "code",
      "source": [
        "df = pd.read_csv('https://www.edsonmelo.com.br/dados_csv/dados_midias.csv')"
      ],
      "metadata": {
        "id": "GEQ_r2_-r9HY"
      },
      "execution_count": null,
      "outputs": []
    },
    {
      "cell_type": "code",
      "source": [
        "df.info()"
      ],
      "metadata": {
        "colab": {
          "base_uri": "https://localhost:8080/"
        },
        "id": "1gKBHo63tspa",
        "outputId": "0301791a-df91-4a7f-a3f8-4674a7299799"
      },
      "execution_count": null,
      "outputs": [
        {
          "output_type": "stream",
          "name": "stdout",
          "text": [
            "<class 'pandas.core.frame.DataFrame'>\n",
            "RangeIndex: 200 entries, 0 to 199\n",
            "Data columns (total 5 columns):\n",
            " #   Column  Non-Null Count  Dtype  \n",
            "---  ------  --------------  -----  \n",
            " 0   seq     200 non-null    int64  \n",
            " 1   tv      200 non-null    float64\n",
            " 2   radio   200 non-null    float64\n",
            " 3   jornal  200 non-null    float64\n",
            " 4   vendas  200 non-null    float64\n",
            "dtypes: float64(4), int64(1)\n",
            "memory usage: 7.9 KB\n"
          ]
        }
      ]
    },
    {
      "cell_type": "code",
      "source": [
        "df.head()"
      ],
      "metadata": {
        "colab": {
          "base_uri": "https://localhost:8080/",
          "height": 206
        },
        "id": "JQ_Y-Jautuc7",
        "outputId": "70e5f997-3239-4200-a984-8a1e6fdb6c15"
      },
      "execution_count": null,
      "outputs": [
        {
          "output_type": "execute_result",
          "data": {
            "text/plain": [
              "   seq     tv  radio  jornal  vendas\n",
              "0    1  230.1   37.8    69.2    22.1\n",
              "1    2   44.5   39.3    45.1    10.4\n",
              "2    3   17.2   45.9    69.3     9.3\n",
              "3    4  151.5   41.3    58.5    18.5\n",
              "4    5  180.8   10.8    58.4    12.9"
            ],
            "text/html": [
              "\n",
              "  <div id=\"df-e1fb1efb-2cf8-4380-9e13-760b779333f5\">\n",
              "    <div class=\"colab-df-container\">\n",
              "      <div>\n",
              "<style scoped>\n",
              "    .dataframe tbody tr th:only-of-type {\n",
              "        vertical-align: middle;\n",
              "    }\n",
              "\n",
              "    .dataframe tbody tr th {\n",
              "        vertical-align: top;\n",
              "    }\n",
              "\n",
              "    .dataframe thead th {\n",
              "        text-align: right;\n",
              "    }\n",
              "</style>\n",
              "<table border=\"1\" class=\"dataframe\">\n",
              "  <thead>\n",
              "    <tr style=\"text-align: right;\">\n",
              "      <th></th>\n",
              "      <th>seq</th>\n",
              "      <th>tv</th>\n",
              "      <th>radio</th>\n",
              "      <th>jornal</th>\n",
              "      <th>vendas</th>\n",
              "    </tr>\n",
              "  </thead>\n",
              "  <tbody>\n",
              "    <tr>\n",
              "      <th>0</th>\n",
              "      <td>1</td>\n",
              "      <td>230.1</td>\n",
              "      <td>37.8</td>\n",
              "      <td>69.2</td>\n",
              "      <td>22.1</td>\n",
              "    </tr>\n",
              "    <tr>\n",
              "      <th>1</th>\n",
              "      <td>2</td>\n",
              "      <td>44.5</td>\n",
              "      <td>39.3</td>\n",
              "      <td>45.1</td>\n",
              "      <td>10.4</td>\n",
              "    </tr>\n",
              "    <tr>\n",
              "      <th>2</th>\n",
              "      <td>3</td>\n",
              "      <td>17.2</td>\n",
              "      <td>45.9</td>\n",
              "      <td>69.3</td>\n",
              "      <td>9.3</td>\n",
              "    </tr>\n",
              "    <tr>\n",
              "      <th>3</th>\n",
              "      <td>4</td>\n",
              "      <td>151.5</td>\n",
              "      <td>41.3</td>\n",
              "      <td>58.5</td>\n",
              "      <td>18.5</td>\n",
              "    </tr>\n",
              "    <tr>\n",
              "      <th>4</th>\n",
              "      <td>5</td>\n",
              "      <td>180.8</td>\n",
              "      <td>10.8</td>\n",
              "      <td>58.4</td>\n",
              "      <td>12.9</td>\n",
              "    </tr>\n",
              "  </tbody>\n",
              "</table>\n",
              "</div>\n",
              "      <button class=\"colab-df-convert\" onclick=\"convertToInteractive('df-e1fb1efb-2cf8-4380-9e13-760b779333f5')\"\n",
              "              title=\"Convert this dataframe to an interactive table.\"\n",
              "              style=\"display:none;\">\n",
              "        \n",
              "  <svg xmlns=\"http://www.w3.org/2000/svg\" height=\"24px\"viewBox=\"0 0 24 24\"\n",
              "       width=\"24px\">\n",
              "    <path d=\"M0 0h24v24H0V0z\" fill=\"none\"/>\n",
              "    <path d=\"M18.56 5.44l.94 2.06.94-2.06 2.06-.94-2.06-.94-.94-2.06-.94 2.06-2.06.94zm-11 1L8.5 8.5l.94-2.06 2.06-.94-2.06-.94L8.5 2.5l-.94 2.06-2.06.94zm10 10l.94 2.06.94-2.06 2.06-.94-2.06-.94-.94-2.06-.94 2.06-2.06.94z\"/><path d=\"M17.41 7.96l-1.37-1.37c-.4-.4-.92-.59-1.43-.59-.52 0-1.04.2-1.43.59L10.3 9.45l-7.72 7.72c-.78.78-.78 2.05 0 2.83L4 21.41c.39.39.9.59 1.41.59.51 0 1.02-.2 1.41-.59l7.78-7.78 2.81-2.81c.8-.78.8-2.07 0-2.86zM5.41 20L4 18.59l7.72-7.72 1.47 1.35L5.41 20z\"/>\n",
              "  </svg>\n",
              "      </button>\n",
              "      \n",
              "  <style>\n",
              "    .colab-df-container {\n",
              "      display:flex;\n",
              "      flex-wrap:wrap;\n",
              "      gap: 12px;\n",
              "    }\n",
              "\n",
              "    .colab-df-convert {\n",
              "      background-color: #E8F0FE;\n",
              "      border: none;\n",
              "      border-radius: 50%;\n",
              "      cursor: pointer;\n",
              "      display: none;\n",
              "      fill: #1967D2;\n",
              "      height: 32px;\n",
              "      padding: 0 0 0 0;\n",
              "      width: 32px;\n",
              "    }\n",
              "\n",
              "    .colab-df-convert:hover {\n",
              "      background-color: #E2EBFA;\n",
              "      box-shadow: 0px 1px 2px rgba(60, 64, 67, 0.3), 0px 1px 3px 1px rgba(60, 64, 67, 0.15);\n",
              "      fill: #174EA6;\n",
              "    }\n",
              "\n",
              "    [theme=dark] .colab-df-convert {\n",
              "      background-color: #3B4455;\n",
              "      fill: #D2E3FC;\n",
              "    }\n",
              "\n",
              "    [theme=dark] .colab-df-convert:hover {\n",
              "      background-color: #434B5C;\n",
              "      box-shadow: 0px 1px 3px 1px rgba(0, 0, 0, 0.15);\n",
              "      filter: drop-shadow(0px 1px 2px rgba(0, 0, 0, 0.3));\n",
              "      fill: #FFFFFF;\n",
              "    }\n",
              "  </style>\n",
              "\n",
              "      <script>\n",
              "        const buttonEl =\n",
              "          document.querySelector('#df-e1fb1efb-2cf8-4380-9e13-760b779333f5 button.colab-df-convert');\n",
              "        buttonEl.style.display =\n",
              "          google.colab.kernel.accessAllowed ? 'block' : 'none';\n",
              "\n",
              "        async function convertToInteractive(key) {\n",
              "          const element = document.querySelector('#df-e1fb1efb-2cf8-4380-9e13-760b779333f5');\n",
              "          const dataTable =\n",
              "            await google.colab.kernel.invokeFunction('convertToInteractive',\n",
              "                                                     [key], {});\n",
              "          if (!dataTable) return;\n",
              "\n",
              "          const docLinkHtml = 'Like what you see? Visit the ' +\n",
              "            '<a target=\"_blank\" href=https://colab.research.google.com/notebooks/data_table.ipynb>data table notebook</a>'\n",
              "            + ' to learn more about interactive tables.';\n",
              "          element.innerHTML = '';\n",
              "          dataTable['output_type'] = 'display_data';\n",
              "          await google.colab.output.renderOutput(dataTable, element);\n",
              "          const docLink = document.createElement('div');\n",
              "          docLink.innerHTML = docLinkHtml;\n",
              "          element.appendChild(docLink);\n",
              "        }\n",
              "      </script>\n",
              "    </div>\n",
              "  </div>\n",
              "  "
            ]
          },
          "metadata": {},
          "execution_count": 22
        }
      ]
    },
    {
      "cell_type": "code",
      "source": [
        "df.describe()"
      ],
      "metadata": {
        "colab": {
          "base_uri": "https://localhost:8080/",
          "height": 300
        },
        "id": "py3Ob3wk3Aic",
        "outputId": "69c1b7b5-f87b-433c-f49d-9533977f7a29"
      },
      "execution_count": null,
      "outputs": [
        {
          "output_type": "execute_result",
          "data": {
            "text/plain": [
              "              seq          tv       radio      jornal      vendas\n",
              "count  200.000000  200.000000  200.000000  200.000000  200.000000\n",
              "mean   100.500000  147.042500   23.264000   30.554000   14.022500\n",
              "std     57.879185   85.854236   14.846809   21.778621    5.217457\n",
              "min      1.000000    0.700000    0.000000    0.300000    1.600000\n",
              "25%     50.750000   74.375000    9.975000   12.750000   10.375000\n",
              "50%    100.500000  149.750000   22.900000   25.750000   12.900000\n",
              "75%    150.250000  218.825000   36.525000   45.100000   17.400000\n",
              "max    200.000000  296.400000   49.600000  114.000000   27.000000"
            ],
            "text/html": [
              "\n",
              "  <div id=\"df-c5d58830-8f1e-4955-ab98-9c2904cfe719\">\n",
              "    <div class=\"colab-df-container\">\n",
              "      <div>\n",
              "<style scoped>\n",
              "    .dataframe tbody tr th:only-of-type {\n",
              "        vertical-align: middle;\n",
              "    }\n",
              "\n",
              "    .dataframe tbody tr th {\n",
              "        vertical-align: top;\n",
              "    }\n",
              "\n",
              "    .dataframe thead th {\n",
              "        text-align: right;\n",
              "    }\n",
              "</style>\n",
              "<table border=\"1\" class=\"dataframe\">\n",
              "  <thead>\n",
              "    <tr style=\"text-align: right;\">\n",
              "      <th></th>\n",
              "      <th>seq</th>\n",
              "      <th>tv</th>\n",
              "      <th>radio</th>\n",
              "      <th>jornal</th>\n",
              "      <th>vendas</th>\n",
              "    </tr>\n",
              "  </thead>\n",
              "  <tbody>\n",
              "    <tr>\n",
              "      <th>count</th>\n",
              "      <td>200.000000</td>\n",
              "      <td>200.000000</td>\n",
              "      <td>200.000000</td>\n",
              "      <td>200.000000</td>\n",
              "      <td>200.000000</td>\n",
              "    </tr>\n",
              "    <tr>\n",
              "      <th>mean</th>\n",
              "      <td>100.500000</td>\n",
              "      <td>147.042500</td>\n",
              "      <td>23.264000</td>\n",
              "      <td>30.554000</td>\n",
              "      <td>14.022500</td>\n",
              "    </tr>\n",
              "    <tr>\n",
              "      <th>std</th>\n",
              "      <td>57.879185</td>\n",
              "      <td>85.854236</td>\n",
              "      <td>14.846809</td>\n",
              "      <td>21.778621</td>\n",
              "      <td>5.217457</td>\n",
              "    </tr>\n",
              "    <tr>\n",
              "      <th>min</th>\n",
              "      <td>1.000000</td>\n",
              "      <td>0.700000</td>\n",
              "      <td>0.000000</td>\n",
              "      <td>0.300000</td>\n",
              "      <td>1.600000</td>\n",
              "    </tr>\n",
              "    <tr>\n",
              "      <th>25%</th>\n",
              "      <td>50.750000</td>\n",
              "      <td>74.375000</td>\n",
              "      <td>9.975000</td>\n",
              "      <td>12.750000</td>\n",
              "      <td>10.375000</td>\n",
              "    </tr>\n",
              "    <tr>\n",
              "      <th>50%</th>\n",
              "      <td>100.500000</td>\n",
              "      <td>149.750000</td>\n",
              "      <td>22.900000</td>\n",
              "      <td>25.750000</td>\n",
              "      <td>12.900000</td>\n",
              "    </tr>\n",
              "    <tr>\n",
              "      <th>75%</th>\n",
              "      <td>150.250000</td>\n",
              "      <td>218.825000</td>\n",
              "      <td>36.525000</td>\n",
              "      <td>45.100000</td>\n",
              "      <td>17.400000</td>\n",
              "    </tr>\n",
              "    <tr>\n",
              "      <th>max</th>\n",
              "      <td>200.000000</td>\n",
              "      <td>296.400000</td>\n",
              "      <td>49.600000</td>\n",
              "      <td>114.000000</td>\n",
              "      <td>27.000000</td>\n",
              "    </tr>\n",
              "  </tbody>\n",
              "</table>\n",
              "</div>\n",
              "      <button class=\"colab-df-convert\" onclick=\"convertToInteractive('df-c5d58830-8f1e-4955-ab98-9c2904cfe719')\"\n",
              "              title=\"Convert this dataframe to an interactive table.\"\n",
              "              style=\"display:none;\">\n",
              "        \n",
              "  <svg xmlns=\"http://www.w3.org/2000/svg\" height=\"24px\"viewBox=\"0 0 24 24\"\n",
              "       width=\"24px\">\n",
              "    <path d=\"M0 0h24v24H0V0z\" fill=\"none\"/>\n",
              "    <path d=\"M18.56 5.44l.94 2.06.94-2.06 2.06-.94-2.06-.94-.94-2.06-.94 2.06-2.06.94zm-11 1L8.5 8.5l.94-2.06 2.06-.94-2.06-.94L8.5 2.5l-.94 2.06-2.06.94zm10 10l.94 2.06.94-2.06 2.06-.94-2.06-.94-.94-2.06-.94 2.06-2.06.94z\"/><path d=\"M17.41 7.96l-1.37-1.37c-.4-.4-.92-.59-1.43-.59-.52 0-1.04.2-1.43.59L10.3 9.45l-7.72 7.72c-.78.78-.78 2.05 0 2.83L4 21.41c.39.39.9.59 1.41.59.51 0 1.02-.2 1.41-.59l7.78-7.78 2.81-2.81c.8-.78.8-2.07 0-2.86zM5.41 20L4 18.59l7.72-7.72 1.47 1.35L5.41 20z\"/>\n",
              "  </svg>\n",
              "      </button>\n",
              "      \n",
              "  <style>\n",
              "    .colab-df-container {\n",
              "      display:flex;\n",
              "      flex-wrap:wrap;\n",
              "      gap: 12px;\n",
              "    }\n",
              "\n",
              "    .colab-df-convert {\n",
              "      background-color: #E8F0FE;\n",
              "      border: none;\n",
              "      border-radius: 50%;\n",
              "      cursor: pointer;\n",
              "      display: none;\n",
              "      fill: #1967D2;\n",
              "      height: 32px;\n",
              "      padding: 0 0 0 0;\n",
              "      width: 32px;\n",
              "    }\n",
              "\n",
              "    .colab-df-convert:hover {\n",
              "      background-color: #E2EBFA;\n",
              "      box-shadow: 0px 1px 2px rgba(60, 64, 67, 0.3), 0px 1px 3px 1px rgba(60, 64, 67, 0.15);\n",
              "      fill: #174EA6;\n",
              "    }\n",
              "\n",
              "    [theme=dark] .colab-df-convert {\n",
              "      background-color: #3B4455;\n",
              "      fill: #D2E3FC;\n",
              "    }\n",
              "\n",
              "    [theme=dark] .colab-df-convert:hover {\n",
              "      background-color: #434B5C;\n",
              "      box-shadow: 0px 1px 3px 1px rgba(0, 0, 0, 0.15);\n",
              "      filter: drop-shadow(0px 1px 2px rgba(0, 0, 0, 0.3));\n",
              "      fill: #FFFFFF;\n",
              "    }\n",
              "  </style>\n",
              "\n",
              "      <script>\n",
              "        const buttonEl =\n",
              "          document.querySelector('#df-c5d58830-8f1e-4955-ab98-9c2904cfe719 button.colab-df-convert');\n",
              "        buttonEl.style.display =\n",
              "          google.colab.kernel.accessAllowed ? 'block' : 'none';\n",
              "\n",
              "        async function convertToInteractive(key) {\n",
              "          const element = document.querySelector('#df-c5d58830-8f1e-4955-ab98-9c2904cfe719');\n",
              "          const dataTable =\n",
              "            await google.colab.kernel.invokeFunction('convertToInteractive',\n",
              "                                                     [key], {});\n",
              "          if (!dataTable) return;\n",
              "\n",
              "          const docLinkHtml = 'Like what you see? Visit the ' +\n",
              "            '<a target=\"_blank\" href=https://colab.research.google.com/notebooks/data_table.ipynb>data table notebook</a>'\n",
              "            + ' to learn more about interactive tables.';\n",
              "          element.innerHTML = '';\n",
              "          dataTable['output_type'] = 'display_data';\n",
              "          await google.colab.output.renderOutput(dataTable, element);\n",
              "          const docLink = document.createElement('div');\n",
              "          docLink.innerHTML = docLinkHtml;\n",
              "          element.appendChild(docLink);\n",
              "        }\n",
              "      </script>\n",
              "    </div>\n",
              "  </div>\n",
              "  "
            ]
          },
          "metadata": {},
          "execution_count": 51
        }
      ]
    },
    {
      "cell_type": "code",
      "source": [
        "# Apagando as colunas que não interessam\n",
        "df.drop(['seq'], axis=1)"
      ],
      "metadata": {
        "id": "21Vn3B7St97t"
      },
      "execution_count": null,
      "outputs": []
    },
    {
      "cell_type": "code",
      "source": [
        "# Vamos analisar graficamente as colunas\n",
        "plt.figure(figsize=(12,4))\n",
        "plt.scatter(\n",
        "    df.tv,\n",
        "    df.vendas,\n",
        "    c='red'\n",
        ")\n",
        "plt.xlabel('Gastos com propaganda de TV')\n",
        "plt.ylabel('Vendas registradas')\n",
        "plt.show()"
      ],
      "metadata": {
        "colab": {
          "base_uri": "https://localhost:8080/",
          "height": 279
        },
        "id": "OacUMhCiutYT",
        "outputId": "b4c0b1a6-7915-462a-a5d1-3230f638d55d"
      },
      "execution_count": null,
      "outputs": [
        {
          "output_type": "display_data",
          "data": {
            "text/plain": [
              "<Figure size 864x288 with 1 Axes>"
            ],
            "image/png": "[encoded data removed]"
          },
          "metadata": {
            "needs_background": "light"
          }
        }
      ]
    },
    {
      "cell_type": "code",
      "source": [
        "# Vamos analisar graficamente as colunas\n",
        "plt.figure(figsize=(12,4))\n",
        "plt.scatter(\n",
        "    df.radio,\n",
        "    df.vendas,\n",
        "    c='red'\n",
        ")\n",
        "plt.xlabel('Gastos com propaganda em rádio')\n",
        "plt.ylabel('Vendas registradas')\n",
        "plt.show()"
      ],
      "metadata": {
        "colab": {
          "base_uri": "https://localhost:8080/",
          "height": 280
        },
        "id": "uXtB_fxgvOdx",
        "outputId": "98bd6c44-6de8-4219-b72b-d0c1692fe05a"
      },
      "execution_count": null,
      "outputs": [
        {
          "output_type": "display_data",
          "data": {
            "text/plain": [
              "<Figure size 864x288 with 1 Axes>"
            ],
            "image/png": "[encoded data removed]"
          },
          "metadata": {
            "needs_background": "light"
          }
        }
      ]
    },
    {
      "cell_type": "code",
      "source": [
        "# Vamos analisar graficamente as colunas\n",
        "plt.figure(figsize=(12,4))\n",
        "plt.scatter(\n",
        "    df.jornal,\n",
        "    df.vendas,\n",
        "    c='red'\n",
        ")\n",
        "plt.xlabel('Gastos com propaganda de Jornal')\n",
        "plt.ylabel('Vendas registradas')\n",
        "plt.show()"
      ],
      "metadata": {
        "colab": {
          "base_uri": "https://localhost:8080/",
          "height": 279
        },
        "id": "9hvlQ8CAwkg-",
        "outputId": "901ce492-2477-4b39-b7f8-8d24e12867b2"
      },
      "execution_count": null,
      "outputs": [
        {
          "output_type": "display_data",
          "data": {
            "text/plain": [
              "<Figure size 864x288 with 1 Axes>"
            ],
            "image/png": "[encoded data removed]"
          },
          "metadata": {
            "needs_background": "light"
          }
        }
      ]
    },
    {
      "cell_type": "code",
      "source": [
        "# Aplicar a regressão e plotar um gráfico para analisar os resultados\n",
        "X = df.jornal.values.reshape(-1,1)\n",
        "y = df.vendas.values.reshape(-1,1)\n",
        "\n",
        "modelo = LinearRegression()\n",
        "modelo.fit(X, y)\n",
        "\n",
        "# Vamos testar todos os valores para a variável independente TV\n",
        "previsoes = modelo.predict(X)"
      ],
      "metadata": {
        "id": "89KfheYKw1Up"
      },
      "execution_count": null,
      "outputs": []
    },
    {
      "cell_type": "code",
      "source": [
        "# Plotando o gráfico da regressão para a variável TV\n",
        "plt.figure(figsize=(12,4))\n",
        "plt.scatter(\n",
        "    df.jornal,\n",
        "    df.vendas,\n",
        "    c='red'\n",
        ")\n",
        "\n",
        "# Linha da regressão\n",
        "plt.plot(\n",
        "    df.jornal,\n",
        "    previsoes,\n",
        "    c='blue',\n",
        "    linestyle=':'\n",
        ")\n",
        "\n",
        "plt.xlabel('Gastos com propaganda em TV')\n",
        "plt.ylabel('Vendas registradas')\n",
        "plt.show()"
      ],
      "metadata": {
        "colab": {
          "base_uri": "https://localhost:8080/",
          "height": 279
        },
        "id": "vppiVMtAxry2",
        "outputId": "feacc649-0e02-4f2f-9894-383316661f30"
      },
      "execution_count": null,
      "outputs": [
        {
          "output_type": "display_data",
          "data": {
            "text/plain": [
              "<Figure size 864x288 with 1 Axes>"
            ],
            "image/png": "[encoded data removed]"
          },
          "metadata": {
            "needs_background": "light"
          }
        }
      ]
    },
    {
      "cell_type": "code",
      "source": [
        "# Realizem a plotagem para as três variáveis e analise os resultados"
      ],
      "metadata": {
        "id": "YBaxbSNjz1KC"
      },
      "execution_count": null,
      "outputs": []
    },
    {
      "cell_type": "code",
      "source": [
        "# Analisar a correlação entre as variáveis\n",
        "df.corr()"
      ],
      "metadata": {
        "colab": {
          "base_uri": "https://localhost:8080/",
          "height": 206
        },
        "id": "HNKc74ct3mbC",
        "outputId": "11137c9d-3dea-4131-98df-9606f3bdd85d"
      },
      "execution_count": null,
      "outputs": [
        {
          "output_type": "execute_result",
          "data": {
            "text/plain": [
              "             seq        tv     radio    jornal    vendas\n",
              "seq     1.000000  0.017715 -0.110680 -0.154944 -0.051616\n",
              "tv      0.017715  1.000000  0.054809  0.056648  0.782224\n",
              "radio  -0.110680  0.054809  1.000000  0.354104  0.576223\n",
              "jornal -0.154944  0.056648  0.354104  1.000000  0.228299\n",
              "vendas -0.051616  0.782224  0.576223  0.228299  1.000000"
            ],
            "text/html": [
              "\n",
              "  <div id=\"df-70b4d6d0-9d83-47db-8e2e-ef4c36a6b5ac\">\n",
              "    <div class=\"colab-df-container\">\n",
              "      <div>\n",
              "<style scoped>\n",
              "    .dataframe tbody tr th:only-of-type {\n",
              "        vertical-align: middle;\n",
              "    }\n",
              "\n",
              "    .dataframe tbody tr th {\n",
              "        vertical-align: top;\n",
              "    }\n",
              "\n",
              "    .dataframe thead th {\n",
              "        text-align: right;\n",
              "    }\n",
              "</style>\n",
              "<table border=\"1\" class=\"dataframe\">\n",
              "  <thead>\n",
              "    <tr style=\"text-align: right;\">\n",
              "      <th></th>\n",
              "      <th>seq</th>\n",
              "      <th>tv</th>\n",
              "      <th>radio</th>\n",
              "      <th>jornal</th>\n",
              "      <th>vendas</th>\n",
              "    </tr>\n",
              "  </thead>\n",
              "  <tbody>\n",
              "    <tr>\n",
              "      <th>seq</th>\n",
              "      <td>1.000000</td>\n",
              "      <td>0.017715</td>\n",
              "      <td>-0.110680</td>\n",
              "      <td>-0.154944</td>\n",
              "      <td>-0.051616</td>\n",
              "    </tr>\n",
              "    <tr>\n",
              "      <th>tv</th>\n",
              "      <td>0.017715</td>\n",
              "      <td>1.000000</td>\n",
              "      <td>0.054809</td>\n",
              "      <td>0.056648</td>\n",
              "      <td>0.782224</td>\n",
              "    </tr>\n",
              "    <tr>\n",
              "      <th>radio</th>\n",
              "      <td>-0.110680</td>\n",
              "      <td>0.054809</td>\n",
              "      <td>1.000000</td>\n",
              "      <td>0.354104</td>\n",
              "      <td>0.576223</td>\n",
              "    </tr>\n",
              "    <tr>\n",
              "      <th>jornal</th>\n",
              "      <td>-0.154944</td>\n",
              "      <td>0.056648</td>\n",
              "      <td>0.354104</td>\n",
              "      <td>1.000000</td>\n",
              "      <td>0.228299</td>\n",
              "    </tr>\n",
              "    <tr>\n",
              "      <th>vendas</th>\n",
              "      <td>-0.051616</td>\n",
              "      <td>0.782224</td>\n",
              "      <td>0.576223</td>\n",
              "      <td>0.228299</td>\n",
              "      <td>1.000000</td>\n",
              "    </tr>\n",
              "  </tbody>\n",
              "</table>\n",
              "</div>\n",
              "      <button class=\"colab-df-convert\" onclick=\"convertToInteractive('df-70b4d6d0-9d83-47db-8e2e-ef4c36a6b5ac')\"\n",
              "              title=\"Convert this dataframe to an interactive table.\"\n",
              "              style=\"display:none;\">\n",
              "        \n",
              "  <svg xmlns=\"http://www.w3.org/2000/svg\" height=\"24px\"viewBox=\"0 0 24 24\"\n",
              "       width=\"24px\">\n",
              "    <path d=\"M0 0h24v24H0V0z\" fill=\"none\"/>\n",
              "    <path d=\"M18.56 5.44l.94 2.06.94-2.06 2.06-.94-2.06-.94-.94-2.06-.94 2.06-2.06.94zm-11 1L8.5 8.5l.94-2.06 2.06-.94-2.06-.94L8.5 2.5l-.94 2.06-2.06.94zm10 10l.94 2.06.94-2.06 2.06-.94-2.06-.94-.94-2.06-.94 2.06-2.06.94z\"/><path d=\"M17.41 7.96l-1.37-1.37c-.4-.4-.92-.59-1.43-.59-.52 0-1.04.2-1.43.59L10.3 9.45l-7.72 7.72c-.78.78-.78 2.05 0 2.83L4 21.41c.39.39.9.59 1.41.59.51 0 1.02-.2 1.41-.59l7.78-7.78 2.81-2.81c.8-.78.8-2.07 0-2.86zM5.41 20L4 18.59l7.72-7.72 1.47 1.35L5.41 20z\"/>\n",
              "  </svg>\n",
              "      </button>\n",
              "      \n",
              "  <style>\n",
              "    .colab-df-container {\n",
              "      display:flex;\n",
              "      flex-wrap:wrap;\n",
              "      gap: 12px;\n",
              "    }\n",
              "\n",
              "    .colab-df-convert {\n",
              "      background-color: #E8F0FE;\n",
              "      border: none;\n",
              "      border-radius: 50%;\n",
              "      cursor: pointer;\n",
              "      display: none;\n",
              "      fill: #1967D2;\n",
              "      height: 32px;\n",
              "      padding: 0 0 0 0;\n",
              "      width: 32px;\n",
              "    }\n",
              "\n",
              "    .colab-df-convert:hover {\n",
              "      background-color: #E2EBFA;\n",
              "      box-shadow: 0px 1px 2px rgba(60, 64, 67, 0.3), 0px 1px 3px 1px rgba(60, 64, 67, 0.15);\n",
              "      fill: #174EA6;\n",
              "    }\n",
              "\n",
              "    [theme=dark] .colab-df-convert {\n",
              "      background-color: #3B4455;\n",
              "      fill: #D2E3FC;\n",
              "    }\n",
              "\n",
              "    [theme=dark] .colab-df-convert:hover {\n",
              "      background-color: #434B5C;\n",
              "      box-shadow: 0px 1px 3px 1px rgba(0, 0, 0, 0.15);\n",
              "      filter: drop-shadow(0px 1px 2px rgba(0, 0, 0, 0.3));\n",
              "      fill: #FFFFFF;\n",
              "    }\n",
              "  </style>\n",
              "\n",
              "      <script>\n",
              "        const buttonEl =\n",
              "          document.querySelector('#df-70b4d6d0-9d83-47db-8e2e-ef4c36a6b5ac button.colab-df-convert');\n",
              "        buttonEl.style.display =\n",
              "          google.colab.kernel.accessAllowed ? 'block' : 'none';\n",
              "\n",
              "        async function convertToInteractive(key) {\n",
              "          const element = document.querySelector('#df-70b4d6d0-9d83-47db-8e2e-ef4c36a6b5ac');\n",
              "          const dataTable =\n",
              "            await google.colab.kernel.invokeFunction('convertToInteractive',\n",
              "                                                     [key], {});\n",
              "          if (!dataTable) return;\n",
              "\n",
              "          const docLinkHtml = 'Like what you see? Visit the ' +\n",
              "            '<a target=\"_blank\" href=https://colab.research.google.com/notebooks/data_table.ipynb>data table notebook</a>'\n",
              "            + ' to learn more about interactive tables.';\n",
              "          element.innerHTML = '';\n",
              "          dataTable['output_type'] = 'display_data';\n",
              "          await google.colab.output.renderOutput(dataTable, element);\n",
              "          const docLink = document.createElement('div');\n",
              "          docLink.innerHTML = docLinkHtml;\n",
              "          element.appendChild(docLink);\n",
              "        }\n",
              "      </script>\n",
              "    </div>\n",
              "  </div>\n",
              "  "
            ]
          },
          "metadata": {},
          "execution_count": 52
        }
      ]
    },
    {
      "cell_type": "code",
      "source": [
        "# Avaliando o modelo de regressão\n"
      ],
      "metadata": {
        "id": "UsaVnJ_T3sOq"
      },
      "execution_count": null,
      "outputs": []
    }
  ]
}